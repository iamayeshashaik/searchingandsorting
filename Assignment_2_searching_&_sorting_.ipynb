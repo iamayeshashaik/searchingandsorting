{
  "nbformat": 4,
  "nbformat_minor": 0,
  "metadata": {
    "colab": {
      "provenance": []
    },
    "kernelspec": {
      "name": "python3",
      "display_name": "Python 3"
    },
    "language_info": {
      "name": "python"
    }
  },
  "cells": [
    {
      "cell_type": "code",
      "execution_count": null,
      "metadata": {
        "id": "CDwy_qcf-BnK"
      },
      "outputs": [],
      "source": [
        "# 1.  Implement Binary Search\n",
        "\n",
        "def binery_search(arr,x):\n",
        "    n=len(arr)\n",
        "    low = 0\n",
        "    high = n-1\n",
        "\n",
        "    while(low<=high):\n",
        "        mid = (low+high)//2\n",
        "        if (arr[mid] == x):\n",
        "            return mid\n",
        "        elif (arr[mid]<x):\n",
        "            low = mid+1\n",
        "        else:\n",
        "            high = mid-1\n",
        "            \n",
        "    else:\n",
        "        return -1\n",
        "\n",
        "arr = [1,2,3,4,5]\n",
        "ans = binery_search(arr,3)\n",
        "print(ans)"
      ]
    },
    {
      "cell_type": "code",
      "source": [
        "# 2.  Implement Merge Sort\n",
        "\n",
        "def merge_sort(arr):\n",
        "    if len(arr) > 1:\n",
        "        mid = len(arr) // 2\n",
        "        left_half = arr[:mid]\n",
        "        right_half = arr[mid:]\n",
        "\n",
        "        merge_sort(left_half)\n",
        "        merge_sort(right_half)\n",
        "\n",
        "        i = j = k = 0\n",
        "\n",
        "        while i < len(left_half) and j < len(right_half):\n",
        "            if left_half[i] < right_half[j]:\n",
        "                arr[k] = left_half[i]\n",
        "                i += 1\n",
        "            else:\n",
        "                arr[k] = right_half[j]\n",
        "                j += 1\n",
        "            k += 1\n",
        "\n",
        "        while i < len(left_half):\n",
        "            arr[k] = left_half[i]\n",
        "            i += 1\n",
        "            k += 1\n",
        "\n",
        "        while j < len(right_half):\n",
        "            arr[k] = right_half[j]\n",
        "            j += 1\n",
        "            k += 1\n",
        "\n",
        "arr = [38, 27, 43, 3, 9, 82, 10]\n",
        "merge_sort(arr)\n",
        "print(arr)"
      ],
      "metadata": {
        "id": "q0iyVcqq_Bz4"
      },
      "execution_count": null,
      "outputs": []
    },
    {
      "cell_type": "code",
      "source": [
        "# 3.  Implement Quick Sort\n",
        "\n",
        "def quick_sort(arr, low, high):\n",
        "    if low < high:\n",
        "        pivot = partition(arr, low, high)\n",
        "        quick_sort(arr, low, pivot - 1)\n",
        "        quick_sort(arr, pivot + 1, high)\n",
        "\n",
        "\n",
        "def partition(arr, low, high):\n",
        "    pivot = arr[high]\n",
        "    i = low - 1\n",
        "\n",
        "    for j in range(low, high):\n",
        "        if arr[j] <= pivot:\n",
        "            i += 1\n",
        "            arr[i], arr[j] = arr[j], arr[i]\n",
        "\n",
        "    arr[i + 1], arr[high] = arr[high], arr[i + 1]\n",
        "    return i + 1\n",
        "\n",
        "arr = [38, 27, 43, 3, 9, 82, 10]\n",
        "quick_sort(arr, 0, len(arr) - 1)\n",
        "print(arr)"
      ],
      "metadata": {
        "id": "B028sdPE_WSl"
      },
      "execution_count": null,
      "outputs": []
    },
    {
      "cell_type": "code",
      "source": [
        "# 4.  Implement Insertion Sort\n",
        "\n",
        "def insertionSort (arr) :\n",
        "    for i in range (1, len(arr)) :\n",
        "        \n",
        "        key = arr[i]\n",
        "\n",
        "        j = i-1\n",
        "        while j >= 0 and key < arr [j]:\n",
        "            arr[j + 1] = arr[j]\n",
        "            j -= 1\n",
        "        arr[j + 1] = key\n",
        "arr = [12,11,13,5,6]\n",
        "insertionSort(arr)\n",
        "print(arr)"
      ],
      "metadata": {
        "id": "j2NObhMY_dw3"
      },
      "execution_count": null,
      "outputs": []
    },
    {
      "cell_type": "code",
      "source": [
        "# 5.  Write a program to sort list of strings (similar to that of dictionary)\n",
        "\n",
        "my_list = ['cat', 'dog', 'apple', 'banana', 'zebra']\n",
        "sorted_list = sorted(my_list, key=lambda s: s[0])\n",
        "print(sorted_list)\n"
      ],
      "metadata": {
        "id": "Z_EoRfHk_nls"
      },
      "execution_count": null,
      "outputs": []
    },
    {
      "cell_type": "code",
      "source": [
        "from google.colab import drive\n",
        "drive.mount('/content/drive')"
      ],
      "metadata": {
        "id": "TY3ezbho_xx2"
      },
      "execution_count": null,
      "outputs": []
    }
  ]
}